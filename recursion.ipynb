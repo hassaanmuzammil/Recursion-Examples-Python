{
 "cells": [
  {
   "cell_type": "markdown",
   "metadata": {},
   "source": [
    "# Permutations of a given sequence\n",
    "\n",
    "permutations of 'abc' = ['abc','bac',bca','acb','cab','cba']"
   ]
  },
  {
   "cell_type": "code",
   "execution_count": 22,
   "metadata": {},
   "outputs": [],
   "source": [
    "def get_permutations(sequence):\n",
    "    \n",
    "    temp_list = []\n",
    "    ''' \n",
    "    Base Case: \n",
    "               All possible permutations of a letter 'c' is ['c'] only, which is the letter itself\n",
    "    '''\n",
    "    if len(sequence) == 0 or len(sequence) == 1:\n",
    "        return [sequence]\n",
    "    \n",
    "    '''\n",
    "    Recursive Case: \n",
    "               Permutations of any sequence can be found by inserting its first letter at all \n",
    "               possible positions in the all the permutations of all of its letter excluding the first letter\n",
    "                    \n",
    "               permutations of 'abc' --> insert 'a' at all dashed positions in ['_b_c_' , '_c_b_']\n",
    "               permutations of 'bc'  --> insert 'b' at all dashed positions in ['_c_']\n",
    "               permutations of 'c' is the base case\n",
    "            \n",
    "    '''                    \n",
    "    temp_list = get_permutations(sequence[1:len(sequence)])\n",
    "    final_list = []\n",
    "    for i in range(len(temp_list)):\n",
    "        for j in range(len(sequence)):\n",
    "            temp_str = temp_list[i][0:j] + sequence[0] + temp_list[i][j:len(sequence)-1]\n",
    "            if temp_str not in final_list:\n",
    "                final_list.append(temp_str)\n",
    "    \n",
    "    return final_list\n",
    "    "
   ]
  },
  {
   "cell_type": "code",
   "execution_count": 24,
   "metadata": {
    "scrolled": true
   },
   "outputs": [
    {
     "data": {
      "text/plain": [
       "['abcde',\n",
       " 'bacde',\n",
       " 'bcade',\n",
       " 'bcdae',\n",
       " 'bcdea',\n",
       " 'acbde',\n",
       " 'cabde',\n",
       " 'cbade',\n",
       " 'cbdae',\n",
       " 'cbdea',\n",
       " 'acdbe',\n",
       " 'cadbe',\n",
       " 'cdabe',\n",
       " 'cdbae',\n",
       " 'cdbea',\n",
       " 'acdeb',\n",
       " 'cadeb',\n",
       " 'cdaeb',\n",
       " 'cdeab',\n",
       " 'cdeba',\n",
       " 'abdce',\n",
       " 'badce',\n",
       " 'bdace',\n",
       " 'bdcae',\n",
       " 'bdcea',\n",
       " 'adbce',\n",
       " 'dabce',\n",
       " 'dbace',\n",
       " 'dbcae',\n",
       " 'dbcea',\n",
       " 'adcbe',\n",
       " 'dacbe',\n",
       " 'dcabe',\n",
       " 'dcbae',\n",
       " 'dcbea',\n",
       " 'adceb',\n",
       " 'daceb',\n",
       " 'dcaeb',\n",
       " 'dceab',\n",
       " 'dceba',\n",
       " 'abdec',\n",
       " 'badec',\n",
       " 'bdaec',\n",
       " 'bdeac',\n",
       " 'bdeca',\n",
       " 'adbec',\n",
       " 'dabec',\n",
       " 'dbaec',\n",
       " 'dbeac',\n",
       " 'dbeca',\n",
       " 'adebc',\n",
       " 'daebc',\n",
       " 'deabc',\n",
       " 'debac',\n",
       " 'debca',\n",
       " 'adecb',\n",
       " 'daecb',\n",
       " 'deacb',\n",
       " 'decab',\n",
       " 'decba',\n",
       " 'abced',\n",
       " 'baced',\n",
       " 'bcaed',\n",
       " 'bcead',\n",
       " 'bceda',\n",
       " 'acbed',\n",
       " 'cabed',\n",
       " 'cbaed',\n",
       " 'cbead',\n",
       " 'cbeda',\n",
       " 'acebd',\n",
       " 'caebd',\n",
       " 'ceabd',\n",
       " 'cebad',\n",
       " 'cebda',\n",
       " 'acedb',\n",
       " 'caedb',\n",
       " 'ceadb',\n",
       " 'cedab',\n",
       " 'cedba',\n",
       " 'abecd',\n",
       " 'baecd',\n",
       " 'beacd',\n",
       " 'becad',\n",
       " 'becda',\n",
       " 'aebcd',\n",
       " 'eabcd',\n",
       " 'ebacd',\n",
       " 'ebcad',\n",
       " 'ebcda',\n",
       " 'aecbd',\n",
       " 'eacbd',\n",
       " 'ecabd',\n",
       " 'ecbad',\n",
       " 'ecbda',\n",
       " 'aecdb',\n",
       " 'eacdb',\n",
       " 'ecadb',\n",
       " 'ecdab',\n",
       " 'ecdba',\n",
       " 'abedc',\n",
       " 'baedc',\n",
       " 'beadc',\n",
       " 'bedac',\n",
       " 'bedca',\n",
       " 'aebdc',\n",
       " 'eabdc',\n",
       " 'ebadc',\n",
       " 'ebdac',\n",
       " 'ebdca',\n",
       " 'aedbc',\n",
       " 'eadbc',\n",
       " 'edabc',\n",
       " 'edbac',\n",
       " 'edbca',\n",
       " 'aedcb',\n",
       " 'eadcb',\n",
       " 'edacb',\n",
       " 'edcab',\n",
       " 'edcba']"
      ]
     },
     "execution_count": 24,
     "metadata": {},
     "output_type": "execute_result"
    }
   ],
   "source": [
    "sequence = 'abcde'\n",
    "get_permutations(sequence)"
   ]
  },
  {
   "cell_type": "markdown",
   "metadata": {},
   "source": [
    "# Factorial Calculation\n",
    "\n",
    "n! = n * (n-1) * (n-2) * (n-3) ... * 1"
   ]
  },
  {
   "cell_type": "code",
   "execution_count": 15,
   "metadata": {},
   "outputs": [],
   "source": [
    "def get_factorial(x):\n",
    "    #Base Case: 1! or 0! = 1\n",
    "    if x == 0 or x == 1:\n",
    "        return 1\n",
    "    #Recursive Case: n! = n * (n-1)!\n",
    "    else:\n",
    "        return x * fact(x-1)"
   ]
  },
  {
   "cell_type": "code",
   "execution_count": 16,
   "metadata": {},
   "outputs": [
    {
     "data": {
      "text/plain": [
       "362880"
      ]
     },
     "execution_count": 16,
     "metadata": {},
     "output_type": "execute_result"
    }
   ],
   "source": [
    "get_factorial(9)"
   ]
  },
  {
   "cell_type": "markdown",
   "metadata": {},
   "source": [
    "# Fibonacci Series\n",
    "\n",
    "fib(n) = sum of (n-1)th and (n-2)th terms of the sequence:\n",
    "0,1,1,2,3,5,8,13,21,34,55\n"
   ]
  },
  {
   "cell_type": "code",
   "execution_count": 18,
   "metadata": {},
   "outputs": [],
   "source": [
    "def get_fibonacci(x):\n",
    "    #Base Case: fib(1) = 1, fib(0) = 0\n",
    "    if x == 0:\n",
    "        return 0\n",
    "    elif x == 1: \n",
    "        return 1\n",
    "    #Recursive Case: fib(n) = fib(n-1) + fib(n-2)\n",
    "    else: \n",
    "        return get_fibonacci(x-1) + get_fibonacci(x-2)"
   ]
  },
  {
   "cell_type": "code",
   "execution_count": 19,
   "metadata": {},
   "outputs": [
    {
     "data": {
      "text/plain": [
       "55"
      ]
     },
     "execution_count": 19,
     "metadata": {},
     "output_type": "execute_result"
    }
   ],
   "source": [
    "get_fibonacci(10)"
   ]
  },
  {
   "cell_type": "code",
   "execution_count": null,
   "metadata": {},
   "outputs": [],
   "source": []
  }
 ],
 "metadata": {
  "kernelspec": {
   "display_name": "Python 3",
   "language": "python",
   "name": "python3"
  },
  "language_info": {
   "codemirror_mode": {
    "name": "ipython",
    "version": 3
   },
   "file_extension": ".py",
   "mimetype": "text/x-python",
   "name": "python",
   "nbconvert_exporter": "python",
   "pygments_lexer": "ipython3",
   "version": "3.7.4"
  }
 },
 "nbformat": 4,
 "nbformat_minor": 2
}
